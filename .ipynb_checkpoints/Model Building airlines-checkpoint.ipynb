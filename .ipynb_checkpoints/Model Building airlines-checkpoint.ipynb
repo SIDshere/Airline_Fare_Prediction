{
 "cells": [
  {
   "cell_type": "code",
   "execution_count": 2,
   "id": "d7bedd6e",
   "metadata": {},
   "outputs": [],
   "source": [
    "import pandas as pd"
   ]
  },
  {
   "cell_type": "code",
   "execution_count": 3,
   "id": "ba6497f8",
   "metadata": {},
   "outputs": [],
   "source": [
    "df=pd.read_csv(\"final_airlines.csv\")"
   ]
  },
  {
   "cell_type": "code",
   "execution_count": 7,
   "id": "240116a1",
   "metadata": {},
   "outputs": [
    {
     "data": {
      "text/plain": [
       "Unnamed: 0.1                          1\n",
       "Unnamed: 0                            1\n",
       "Origin_Dest                         BOM\n",
       "Destination                         COK\n",
       "Company_names          Vistara, GoFirst\n",
       "start_date                   2023-04-14\n",
       "end_date                     2023-08-26\n",
       "Stops                            direct\n",
       "Timings                     09:45–11:50\n",
       "Duration                         2h 05m\n",
       "Price                            8178.0\n",
       "jstart_day                           14\n",
       "jstart_month                          4\n",
       "jstart_year                        2023\n",
       "jend_day                             26\n",
       "jend_month                            8\n",
       "jend_year                          2023\n",
       "dep_time_hour                         9\n",
       "dep_time_minute                      45\n",
       "arrival_time_hour                    11\n",
       "arrival_time_minute                  50\n",
       "Duration_hours                        2\n",
       "Duration_mins                         5\n",
       "Duration_total_mins                 125\n",
       "Origin_DestBOM                        1\n",
       "Airline                              34\n",
       "DDestination                          2\n",
       "Total_Stops                           0\n",
       "Name: 1, dtype: object"
      ]
     },
     "execution_count": 7,
     "metadata": {},
     "output_type": "execute_result"
    }
   ],
   "source": [
    "df.iloc[1]"
   ]
  },
  {
   "cell_type": "code",
   "execution_count": 5,
   "id": "2649aca9",
   "metadata": {},
   "outputs": [],
   "source": [
    "x=df[['Airline', 'DDestination','Total_Stops','jstart_day', 'jstart_month', 'jend_day', 'jend_month',\n",
    "       'dep_time_hour', 'dep_time_minute', 'arrival_time_hour',\n",
    "       'arrival_time_minute', 'Duration_hours', 'Duration_mins',\n",
    "       'Duration_total_mins', 'Origin_DestBOM']]"
   ]
  },
  {
   "cell_type": "code",
   "execution_count": 6,
   "id": "6d78de62",
   "metadata": {},
   "outputs": [
    {
     "data": {
      "text/html": [
       "<div>\n",
       "<style scoped>\n",
       "    .dataframe tbody tr th:only-of-type {\n",
       "        vertical-align: middle;\n",
       "    }\n",
       "\n",
       "    .dataframe tbody tr th {\n",
       "        vertical-align: top;\n",
       "    }\n",
       "\n",
       "    .dataframe thead th {\n",
       "        text-align: right;\n",
       "    }\n",
       "</style>\n",
       "<table border=\"1\" class=\"dataframe\">\n",
       "  <thead>\n",
       "    <tr style=\"text-align: right;\">\n",
       "      <th></th>\n",
       "      <th>Airline</th>\n",
       "      <th>DDestination</th>\n",
       "      <th>Total_Stops</th>\n",
       "      <th>jstart_day</th>\n",
       "      <th>jstart_month</th>\n",
       "      <th>jend_day</th>\n",
       "      <th>jend_month</th>\n",
       "      <th>dep_time_hour</th>\n",
       "      <th>dep_time_minute</th>\n",
       "      <th>arrival_time_hour</th>\n",
       "      <th>arrival_time_minute</th>\n",
       "      <th>Duration_hours</th>\n",
       "      <th>Duration_mins</th>\n",
       "      <th>Duration_total_mins</th>\n",
       "      <th>Origin_DestBOM</th>\n",
       "    </tr>\n",
       "  </thead>\n",
       "  <tbody>\n",
       "    <tr>\n",
       "      <th>0</th>\n",
       "      <td>32</td>\n",
       "      <td>2</td>\n",
       "      <td>0</td>\n",
       "      <td>14</td>\n",
       "      <td>4</td>\n",
       "      <td>26</td>\n",
       "      <td>8</td>\n",
       "      <td>22</td>\n",
       "      <td>45</td>\n",
       "      <td>0</td>\n",
       "      <td>50</td>\n",
       "      <td>2</td>\n",
       "      <td>5</td>\n",
       "      <td>125</td>\n",
       "      <td>1</td>\n",
       "    </tr>\n",
       "    <tr>\n",
       "      <th>1</th>\n",
       "      <td>34</td>\n",
       "      <td>2</td>\n",
       "      <td>0</td>\n",
       "      <td>14</td>\n",
       "      <td>4</td>\n",
       "      <td>26</td>\n",
       "      <td>8</td>\n",
       "      <td>9</td>\n",
       "      <td>45</td>\n",
       "      <td>11</td>\n",
       "      <td>50</td>\n",
       "      <td>2</td>\n",
       "      <td>5</td>\n",
       "      <td>125</td>\n",
       "      <td>1</td>\n",
       "    </tr>\n",
       "    <tr>\n",
       "      <th>2</th>\n",
       "      <td>32</td>\n",
       "      <td>2</td>\n",
       "      <td>0</td>\n",
       "      <td>14</td>\n",
       "      <td>4</td>\n",
       "      <td>26</td>\n",
       "      <td>8</td>\n",
       "      <td>15</td>\n",
       "      <td>55</td>\n",
       "      <td>17</td>\n",
       "      <td>45</td>\n",
       "      <td>1</td>\n",
       "      <td>50</td>\n",
       "      <td>110</td>\n",
       "      <td>1</td>\n",
       "    </tr>\n",
       "    <tr>\n",
       "      <th>3</th>\n",
       "      <td>32</td>\n",
       "      <td>2</td>\n",
       "      <td>1</td>\n",
       "      <td>14</td>\n",
       "      <td>4</td>\n",
       "      <td>26</td>\n",
       "      <td>8</td>\n",
       "      <td>17</td>\n",
       "      <td>20</td>\n",
       "      <td>22</td>\n",
       "      <td>10</td>\n",
       "      <td>4</td>\n",
       "      <td>50</td>\n",
       "      <td>290</td>\n",
       "      <td>1</td>\n",
       "    </tr>\n",
       "    <tr>\n",
       "      <th>4</th>\n",
       "      <td>32</td>\n",
       "      <td>2</td>\n",
       "      <td>1</td>\n",
       "      <td>14</td>\n",
       "      <td>4</td>\n",
       "      <td>26</td>\n",
       "      <td>8</td>\n",
       "      <td>16</td>\n",
       "      <td>20</td>\n",
       "      <td>22</td>\n",
       "      <td>10</td>\n",
       "      <td>5</td>\n",
       "      <td>50</td>\n",
       "      <td>350</td>\n",
       "      <td>1</td>\n",
       "    </tr>\n",
       "    <tr>\n",
       "      <th>...</th>\n",
       "      <td>...</td>\n",
       "      <td>...</td>\n",
       "      <td>...</td>\n",
       "      <td>...</td>\n",
       "      <td>...</td>\n",
       "      <td>...</td>\n",
       "      <td>...</td>\n",
       "      <td>...</td>\n",
       "      <td>...</td>\n",
       "      <td>...</td>\n",
       "      <td>...</td>\n",
       "      <td>...</td>\n",
       "      <td>...</td>\n",
       "      <td>...</td>\n",
       "      <td>...</td>\n",
       "    </tr>\n",
       "    <tr>\n",
       "      <th>23949</th>\n",
       "      <td>38</td>\n",
       "      <td>1</td>\n",
       "      <td>0</td>\n",
       "      <td>8</td>\n",
       "      <td>5</td>\n",
       "      <td>11</td>\n",
       "      <td>9</td>\n",
       "      <td>20</td>\n",
       "      <td>30</td>\n",
       "      <td>21</td>\n",
       "      <td>50</td>\n",
       "      <td>1</td>\n",
       "      <td>20</td>\n",
       "      <td>80</td>\n",
       "      <td>1</td>\n",
       "    </tr>\n",
       "    <tr>\n",
       "      <th>23950</th>\n",
       "      <td>38</td>\n",
       "      <td>1</td>\n",
       "      <td>0</td>\n",
       "      <td>8</td>\n",
       "      <td>5</td>\n",
       "      <td>11</td>\n",
       "      <td>9</td>\n",
       "      <td>2</td>\n",
       "      <td>35</td>\n",
       "      <td>4</td>\n",
       "      <td>5</td>\n",
       "      <td>1</td>\n",
       "      <td>30</td>\n",
       "      <td>90</td>\n",
       "      <td>1</td>\n",
       "    </tr>\n",
       "    <tr>\n",
       "      <th>23951</th>\n",
       "      <td>38</td>\n",
       "      <td>1</td>\n",
       "      <td>0</td>\n",
       "      <td>8</td>\n",
       "      <td>5</td>\n",
       "      <td>11</td>\n",
       "      <td>9</td>\n",
       "      <td>2</td>\n",
       "      <td>35</td>\n",
       "      <td>4</td>\n",
       "      <td>5</td>\n",
       "      <td>1</td>\n",
       "      <td>30</td>\n",
       "      <td>90</td>\n",
       "      <td>1</td>\n",
       "    </tr>\n",
       "    <tr>\n",
       "      <th>23952</th>\n",
       "      <td>38</td>\n",
       "      <td>1</td>\n",
       "      <td>0</td>\n",
       "      <td>8</td>\n",
       "      <td>5</td>\n",
       "      <td>11</td>\n",
       "      <td>9</td>\n",
       "      <td>2</td>\n",
       "      <td>35</td>\n",
       "      <td>4</td>\n",
       "      <td>5</td>\n",
       "      <td>1</td>\n",
       "      <td>30</td>\n",
       "      <td>90</td>\n",
       "      <td>1</td>\n",
       "    </tr>\n",
       "    <tr>\n",
       "      <th>23953</th>\n",
       "      <td>47</td>\n",
       "      <td>1</td>\n",
       "      <td>0</td>\n",
       "      <td>8</td>\n",
       "      <td>5</td>\n",
       "      <td>11</td>\n",
       "      <td>9</td>\n",
       "      <td>19</td>\n",
       "      <td>10</td>\n",
       "      <td>20</td>\n",
       "      <td>55</td>\n",
       "      <td>1</td>\n",
       "      <td>45</td>\n",
       "      <td>105</td>\n",
       "      <td>1</td>\n",
       "    </tr>\n",
       "  </tbody>\n",
       "</table>\n",
       "<p>23954 rows × 15 columns</p>\n",
       "</div>"
      ],
      "text/plain": [
       "       Airline  DDestination  Total_Stops  jstart_day  jstart_month  jend_day  \\\n",
       "0           32             2            0          14             4        26   \n",
       "1           34             2            0          14             4        26   \n",
       "2           32             2            0          14             4        26   \n",
       "3           32             2            1          14             4        26   \n",
       "4           32             2            1          14             4        26   \n",
       "...        ...           ...          ...         ...           ...       ...   \n",
       "23949       38             1            0           8             5        11   \n",
       "23950       38             1            0           8             5        11   \n",
       "23951       38             1            0           8             5        11   \n",
       "23952       38             1            0           8             5        11   \n",
       "23953       47             1            0           8             5        11   \n",
       "\n",
       "       jend_month  dep_time_hour  dep_time_minute  arrival_time_hour  \\\n",
       "0               8             22               45                  0   \n",
       "1               8              9               45                 11   \n",
       "2               8             15               55                 17   \n",
       "3               8             17               20                 22   \n",
       "4               8             16               20                 22   \n",
       "...           ...            ...              ...                ...   \n",
       "23949           9             20               30                 21   \n",
       "23950           9              2               35                  4   \n",
       "23951           9              2               35                  4   \n",
       "23952           9              2               35                  4   \n",
       "23953           9             19               10                 20   \n",
       "\n",
       "       arrival_time_minute  Duration_hours  Duration_mins  \\\n",
       "0                       50               2              5   \n",
       "1                       50               2              5   \n",
       "2                       45               1             50   \n",
       "3                       10               4             50   \n",
       "4                       10               5             50   \n",
       "...                    ...             ...            ...   \n",
       "23949                   50               1             20   \n",
       "23950                    5               1             30   \n",
       "23951                    5               1             30   \n",
       "23952                    5               1             30   \n",
       "23953                   55               1             45   \n",
       "\n",
       "       Duration_total_mins  Origin_DestBOM  \n",
       "0                      125               1  \n",
       "1                      125               1  \n",
       "2                      110               1  \n",
       "3                      290               1  \n",
       "4                      350               1  \n",
       "...                    ...             ...  \n",
       "23949                   80               1  \n",
       "23950                   90               1  \n",
       "23951                   90               1  \n",
       "23952                   90               1  \n",
       "23953                  105               1  \n",
       "\n",
       "[23954 rows x 15 columns]"
      ]
     },
     "execution_count": 6,
     "metadata": {},
     "output_type": "execute_result"
    }
   ],
   "source": [
    "x"
   ]
  },
  {
   "cell_type": "code",
   "execution_count": 5,
   "id": "eb9aa26a",
   "metadata": {},
   "outputs": [],
   "source": [
    "y=df['Price']"
   ]
  },
  {
   "cell_type": "code",
   "execution_count": 6,
   "id": "d3dde188",
   "metadata": {},
   "outputs": [],
   "source": [
    "from sklearn.feature_selection import mutual_info_regression"
   ]
  },
  {
   "cell_type": "code",
   "execution_count": 7,
   "id": "8e723cfe",
   "metadata": {},
   "outputs": [
    {
     "data": {
      "text/plain": [
       "array([0.89061981, 0.66488619, 0.51644812, 0.56767469, 0.80166859,\n",
       "       0.56520445, 0.71069415, 0.39934341, 0.38497401, 0.42662447,\n",
       "       0.35669675, 0.43782706, 0.35777072, 0.46379064, 0.00196509])"
      ]
     },
     "execution_count": 7,
     "metadata": {},
     "output_type": "execute_result"
    }
   ],
   "source": [
    "mutual_info_regression(x,y)"
   ]
  },
  {
   "cell_type": "code",
   "execution_count": 8,
   "id": "903276d4",
   "metadata": {},
   "outputs": [],
   "source": [
    "imp=pd.DataFrame(mutual_info_regression(x,y),index=x.columns)"
   ]
  },
  {
   "cell_type": "code",
   "execution_count": 9,
   "id": "bd5d6cba",
   "metadata": {},
   "outputs": [
    {
     "data": {
      "text/html": [
       "<div>\n",
       "<style scoped>\n",
       "    .dataframe tbody tr th:only-of-type {\n",
       "        vertical-align: middle;\n",
       "    }\n",
       "\n",
       "    .dataframe tbody tr th {\n",
       "        vertical-align: top;\n",
       "    }\n",
       "\n",
       "    .dataframe thead th {\n",
       "        text-align: right;\n",
       "    }\n",
       "</style>\n",
       "<table border=\"1\" class=\"dataframe\">\n",
       "  <thead>\n",
       "    <tr style=\"text-align: right;\">\n",
       "      <th></th>\n",
       "      <th>0</th>\n",
       "    </tr>\n",
       "  </thead>\n",
       "  <tbody>\n",
       "    <tr>\n",
       "      <th>Airline</th>\n",
       "      <td>0.887020</td>\n",
       "    </tr>\n",
       "    <tr>\n",
       "      <th>DDestination</th>\n",
       "      <td>0.668138</td>\n",
       "    </tr>\n",
       "    <tr>\n",
       "      <th>Total_Stops</th>\n",
       "      <td>0.517548</td>\n",
       "    </tr>\n",
       "    <tr>\n",
       "      <th>jstart_day</th>\n",
       "      <td>0.565314</td>\n",
       "    </tr>\n",
       "    <tr>\n",
       "      <th>jstart_month</th>\n",
       "      <td>0.795827</td>\n",
       "    </tr>\n",
       "    <tr>\n",
       "      <th>jend_day</th>\n",
       "      <td>0.570007</td>\n",
       "    </tr>\n",
       "    <tr>\n",
       "      <th>jend_month</th>\n",
       "      <td>0.706425</td>\n",
       "    </tr>\n",
       "    <tr>\n",
       "      <th>dep_time_hour</th>\n",
       "      <td>0.402766</td>\n",
       "    </tr>\n",
       "    <tr>\n",
       "      <th>dep_time_minute</th>\n",
       "      <td>0.389289</td>\n",
       "    </tr>\n",
       "    <tr>\n",
       "      <th>arrival_time_hour</th>\n",
       "      <td>0.424969</td>\n",
       "    </tr>\n",
       "    <tr>\n",
       "      <th>arrival_time_minute</th>\n",
       "      <td>0.356904</td>\n",
       "    </tr>\n",
       "    <tr>\n",
       "      <th>Duration_hours</th>\n",
       "      <td>0.443917</td>\n",
       "    </tr>\n",
       "    <tr>\n",
       "      <th>Duration_mins</th>\n",
       "      <td>0.356726</td>\n",
       "    </tr>\n",
       "    <tr>\n",
       "      <th>Duration_total_mins</th>\n",
       "      <td>0.463709</td>\n",
       "    </tr>\n",
       "    <tr>\n",
       "      <th>Origin_DestBOM</th>\n",
       "      <td>0.000000</td>\n",
       "    </tr>\n",
       "  </tbody>\n",
       "</table>\n",
       "</div>"
      ],
      "text/plain": [
       "                            0\n",
       "Airline              0.887020\n",
       "DDestination         0.668138\n",
       "Total_Stops          0.517548\n",
       "jstart_day           0.565314\n",
       "jstart_month         0.795827\n",
       "jend_day             0.570007\n",
       "jend_month           0.706425\n",
       "dep_time_hour        0.402766\n",
       "dep_time_minute      0.389289\n",
       "arrival_time_hour    0.424969\n",
       "arrival_time_minute  0.356904\n",
       "Duration_hours       0.443917\n",
       "Duration_mins        0.356726\n",
       "Duration_total_mins  0.463709\n",
       "Origin_DestBOM       0.000000"
      ]
     },
     "execution_count": 9,
     "metadata": {},
     "output_type": "execute_result"
    }
   ],
   "source": [
    "imp"
   ]
  },
  {
   "cell_type": "code",
   "execution_count": 10,
   "id": "ba4452a6",
   "metadata": {},
   "outputs": [],
   "source": [
    "imp.columns=['importance']"
   ]
  },
  {
   "cell_type": "code",
   "execution_count": 11,
   "id": "dc2f53b7",
   "metadata": {},
   "outputs": [
    {
     "data": {
      "text/html": [
       "<div>\n",
       "<style scoped>\n",
       "    .dataframe tbody tr th:only-of-type {\n",
       "        vertical-align: middle;\n",
       "    }\n",
       "\n",
       "    .dataframe tbody tr th {\n",
       "        vertical-align: top;\n",
       "    }\n",
       "\n",
       "    .dataframe thead th {\n",
       "        text-align: right;\n",
       "    }\n",
       "</style>\n",
       "<table border=\"1\" class=\"dataframe\">\n",
       "  <thead>\n",
       "    <tr style=\"text-align: right;\">\n",
       "      <th></th>\n",
       "      <th>importance</th>\n",
       "    </tr>\n",
       "  </thead>\n",
       "  <tbody>\n",
       "    <tr>\n",
       "      <th>Airline</th>\n",
       "      <td>0.887020</td>\n",
       "    </tr>\n",
       "    <tr>\n",
       "      <th>jstart_month</th>\n",
       "      <td>0.795827</td>\n",
       "    </tr>\n",
       "    <tr>\n",
       "      <th>jend_month</th>\n",
       "      <td>0.706425</td>\n",
       "    </tr>\n",
       "    <tr>\n",
       "      <th>DDestination</th>\n",
       "      <td>0.668138</td>\n",
       "    </tr>\n",
       "    <tr>\n",
       "      <th>jend_day</th>\n",
       "      <td>0.570007</td>\n",
       "    </tr>\n",
       "    <tr>\n",
       "      <th>jstart_day</th>\n",
       "      <td>0.565314</td>\n",
       "    </tr>\n",
       "    <tr>\n",
       "      <th>Total_Stops</th>\n",
       "      <td>0.517548</td>\n",
       "    </tr>\n",
       "    <tr>\n",
       "      <th>Duration_total_mins</th>\n",
       "      <td>0.463709</td>\n",
       "    </tr>\n",
       "    <tr>\n",
       "      <th>Duration_hours</th>\n",
       "      <td>0.443917</td>\n",
       "    </tr>\n",
       "    <tr>\n",
       "      <th>arrival_time_hour</th>\n",
       "      <td>0.424969</td>\n",
       "    </tr>\n",
       "    <tr>\n",
       "      <th>dep_time_hour</th>\n",
       "      <td>0.402766</td>\n",
       "    </tr>\n",
       "    <tr>\n",
       "      <th>dep_time_minute</th>\n",
       "      <td>0.389289</td>\n",
       "    </tr>\n",
       "    <tr>\n",
       "      <th>arrival_time_minute</th>\n",
       "      <td>0.356904</td>\n",
       "    </tr>\n",
       "    <tr>\n",
       "      <th>Duration_mins</th>\n",
       "      <td>0.356726</td>\n",
       "    </tr>\n",
       "    <tr>\n",
       "      <th>Origin_DestBOM</th>\n",
       "      <td>0.000000</td>\n",
       "    </tr>\n",
       "  </tbody>\n",
       "</table>\n",
       "</div>"
      ],
      "text/plain": [
       "                     importance\n",
       "Airline                0.887020\n",
       "jstart_month           0.795827\n",
       "jend_month             0.706425\n",
       "DDestination           0.668138\n",
       "jend_day               0.570007\n",
       "jstart_day             0.565314\n",
       "Total_Stops            0.517548\n",
       "Duration_total_mins    0.463709\n",
       "Duration_hours         0.443917\n",
       "arrival_time_hour      0.424969\n",
       "dep_time_hour          0.402766\n",
       "dep_time_minute        0.389289\n",
       "arrival_time_minute    0.356904\n",
       "Duration_mins          0.356726\n",
       "Origin_DestBOM         0.000000"
      ]
     },
     "execution_count": 11,
     "metadata": {},
     "output_type": "execute_result"
    }
   ],
   "source": [
    "imp.sort_values(by='importance',ascending=False)"
   ]
  },
  {
   "cell_type": "code",
   "execution_count": null,
   "id": "72a33a66",
   "metadata": {},
   "outputs": [],
   "source": []
  },
  {
   "cell_type": "code",
   "execution_count": null,
   "id": "61532b4f",
   "metadata": {},
   "outputs": [],
   "source": []
  },
  {
   "cell_type": "code",
   "execution_count": 12,
   "id": "be89846b",
   "metadata": {},
   "outputs": [],
   "source": [
    "from sklearn.model_selection import train_test_split"
   ]
  },
  {
   "cell_type": "code",
   "execution_count": 13,
   "id": "7017f07b",
   "metadata": {},
   "outputs": [],
   "source": [
    "X_train, X_test, y_train, y_test = train_test_split(x, y, test_size=0.25, random_state=42)"
   ]
  },
  {
   "cell_type": "code",
   "execution_count": null,
   "id": "dccdfb38",
   "metadata": {},
   "outputs": [],
   "source": []
  },
  {
   "cell_type": "code",
   "execution_count": null,
   "id": "7267cef7",
   "metadata": {},
   "outputs": [],
   "source": []
  },
  {
   "cell_type": "markdown",
   "id": "ac155a13",
   "metadata": {},
   "source": [
    "## Linear Regression"
   ]
  },
  {
   "cell_type": "code",
   "execution_count": 14,
   "id": "44ac6e2f",
   "metadata": {},
   "outputs": [],
   "source": [
    "import pandas as pd\n",
    "from sklearn.model_selection import train_test_split\n",
    "from sklearn.linear_model import LinearRegression\n",
    "\n",
    "from sklearn.metrics import r2_score, mean_squared_error, mean_absolute_error\n"
   ]
  },
  {
   "cell_type": "code",
   "execution_count": 15,
   "id": "9110b529",
   "metadata": {},
   "outputs": [],
   "source": [
    "linear_reg = LinearRegression()\n",
    "linear_reg.fit(X_train, y_train)\n",
    "y_pred_linear = linear_reg.predict(X_test)\n",
    "r2_linear = r2_score(y_test, y_pred_linear)\n",
    "mse_linear = mean_squared_error(y_test, y_pred_linear)\n",
    "mae_linear = mean_absolute_error(y_test, y_pred_linear)\n"
   ]
  },
  {
   "cell_type": "code",
   "execution_count": 16,
   "id": "99e545c5",
   "metadata": {},
   "outputs": [
    {
     "data": {
      "text/plain": [
       "0.6019627531670335"
      ]
     },
     "execution_count": 16,
     "metadata": {},
     "output_type": "execute_result"
    }
   ],
   "source": [
    "r2_linear"
   ]
  },
  {
   "cell_type": "code",
   "execution_count": 17,
   "id": "64af4d48",
   "metadata": {},
   "outputs": [
    {
     "data": {
      "text/plain": [
       "3018.8927509493697"
      ]
     },
     "execution_count": 17,
     "metadata": {},
     "output_type": "execute_result"
    }
   ],
   "source": [
    "mae_linear"
   ]
  },
  {
   "cell_type": "code",
   "execution_count": 18,
   "id": "ea9b3899",
   "metadata": {},
   "outputs": [
    {
     "data": {
      "text/plain": [
       "16260081.556739643"
      ]
     },
     "execution_count": 18,
     "metadata": {},
     "output_type": "execute_result"
    }
   ],
   "source": [
    "mse_linear"
   ]
  },
  {
   "cell_type": "markdown",
   "id": "d27028f8",
   "metadata": {},
   "source": [
    "## Decision Tree"
   ]
  },
  {
   "cell_type": "code",
   "execution_count": 19,
   "id": "d8ae8bc2",
   "metadata": {},
   "outputs": [],
   "source": [
    "# Decision Trees\n",
    "from sklearn.tree import DecisionTreeRegressor\n",
    "tree_reg = DecisionTreeRegressor()\n",
    "tree_reg.fit(X_train, y_train)\n",
    "y_pred_tree = tree_reg.predict(X_test)\n",
    "r2_tree = r2_score(y_test, y_pred_tree)\n",
    "mse_tree = mean_squared_error(y_test, y_pred_tree)\n",
    "mae_tree = mean_absolute_error(y_test, y_pred_tree)"
   ]
  },
  {
   "cell_type": "code",
   "execution_count": 20,
   "id": "63f5703d",
   "metadata": {},
   "outputs": [
    {
     "data": {
      "text/plain": [
       "0.8947327348512992"
      ]
     },
     "execution_count": 20,
     "metadata": {},
     "output_type": "execute_result"
    }
   ],
   "source": [
    "r2_tree"
   ]
  },
  {
   "cell_type": "code",
   "execution_count": 21,
   "id": "945d53cc",
   "metadata": {},
   "outputs": [
    {
     "data": {
      "text/plain": [
       "4300236.548694386"
      ]
     },
     "execution_count": 21,
     "metadata": {},
     "output_type": "execute_result"
    }
   ],
   "source": [
    "mse_tree"
   ]
  },
  {
   "cell_type": "code",
   "execution_count": 22,
   "id": "5a86bb28",
   "metadata": {},
   "outputs": [
    {
     "data": {
      "text/plain": [
       "993.5976209009608"
      ]
     },
     "execution_count": 22,
     "metadata": {},
     "output_type": "execute_result"
    }
   ],
   "source": [
    "mae_tree"
   ]
  },
  {
   "cell_type": "code",
   "execution_count": null,
   "id": "5c56f334",
   "metadata": {},
   "outputs": [],
   "source": []
  },
  {
   "cell_type": "markdown",
   "id": "e1cb71d4",
   "metadata": {},
   "source": [
    "## Random Forest"
   ]
  },
  {
   "cell_type": "code",
   "execution_count": 23,
   "id": "56a0ed6f",
   "metadata": {},
   "outputs": [],
   "source": [
    "# Random Forest\n",
    "from sklearn.ensemble import RandomForestRegressor\n",
    "forest_reg = RandomForestRegressor()\n",
    "forest_reg.fit(X_train, y_train)\n",
    "y_pred_forest = forest_reg.predict(X_test)\n",
    "r2_forest = r2_score(y_test, y_pred_forest)\n",
    "mse_forest = mean_squared_error(y_test, y_pred_forest)\n",
    "mae_forest = mean_absolute_error(y_test, y_pred_forest)\n"
   ]
  },
  {
   "cell_type": "code",
   "execution_count": 24,
   "id": "0f8d9925",
   "metadata": {},
   "outputs": [
    {
     "data": {
      "text/plain": [
       "0.908752549781476"
      ]
     },
     "execution_count": 24,
     "metadata": {},
     "output_type": "execute_result"
    }
   ],
   "source": [
    "r2_forest"
   ]
  },
  {
   "cell_type": "code",
   "execution_count": 25,
   "id": "5b798d96",
   "metadata": {},
   "outputs": [
    {
     "data": {
      "text/plain": [
       "3727517.950148926"
      ]
     },
     "execution_count": 25,
     "metadata": {},
     "output_type": "execute_result"
    }
   ],
   "source": [
    "mse_forest"
   ]
  },
  {
   "cell_type": "code",
   "execution_count": 26,
   "id": "439bc1b4",
   "metadata": {},
   "outputs": [
    {
     "data": {
      "text/plain": [
       "985.9835700518188"
      ]
     },
     "execution_count": 26,
     "metadata": {},
     "output_type": "execute_result"
    }
   ],
   "source": [
    "mae_forest"
   ]
  },
  {
   "cell_type": "code",
   "execution_count": 27,
   "id": "b6ad6eec",
   "metadata": {},
   "outputs": [],
   "source": [
    "# Gradient Boosting\n",
    "from sklearn.ensemble import GradientBoostingRegressor\n",
    "gb_reg = GradientBoostingRegressor()\n",
    "gb_reg.fit(X_train, y_train)\n",
    "y_pred_gb = gb_reg.predict(X_test)\n",
    "r2_gb = r2_score(y_test, y_pred_gb)\n",
    "mse_gb = mean_squared_error(y_test, y_pred_gb)\n",
    "mae_gb = mean_absolute_error(y_test, y_pred_gb)\n"
   ]
  },
  {
   "cell_type": "code",
   "execution_count": 28,
   "id": "db609b3f",
   "metadata": {},
   "outputs": [
    {
     "data": {
      "text/plain": [
       "0.8378312926834028"
      ]
     },
     "execution_count": 28,
     "metadata": {},
     "output_type": "execute_result"
    }
   ],
   "source": [
    "r2_gb "
   ]
  },
  {
   "cell_type": "code",
   "execution_count": 29,
   "id": "bf4443c1",
   "metadata": {},
   "outputs": [
    {
     "data": {
      "text/plain": [
       "6624697.6329465415"
      ]
     },
     "execution_count": 29,
     "metadata": {},
     "output_type": "execute_result"
    }
   ],
   "source": [
    "mse_gb"
   ]
  },
  {
   "cell_type": "code",
   "execution_count": 30,
   "id": "bf480138",
   "metadata": {},
   "outputs": [
    {
     "data": {
      "text/plain": [
       "1640.217275901539"
      ]
     },
     "execution_count": 30,
     "metadata": {},
     "output_type": "execute_result"
    }
   ],
   "source": [
    "mae_gb"
   ]
  },
  {
   "cell_type": "markdown",
   "id": "ab0c5c1c",
   "metadata": {},
   "source": [
    "## xbooost"
   ]
  },
  {
   "cell_type": "code",
   "execution_count": 31,
   "id": "be97afde",
   "metadata": {},
   "outputs": [
    {
     "name": "stdout",
     "output_type": "stream",
     "text": [
      "XGBoost:\n",
      "R2 Score: 0.9100531069936865\n",
      "Mean Squared Error: 3674389.338422238\n",
      "Mean Absolute Error: 1082.7966827937807\n"
     ]
    }
   ],
   "source": [
    "import xgboost as xgb\n",
    "xgb_reg = xgb.XGBRegressor()\n",
    "xgb_reg.fit(X_train, y_train)\n",
    "y_pred = xgb_reg.predict(X_test)\n",
    "\n",
    "# Evaluate the model using R2 score, mean squared error, and mean absolute error\n",
    "r2 = r2_score(y_test, y_pred)\n",
    "mse = mean_squared_error(y_test, y_pred)\n",
    "mae = mean_absolute_error(y_test, y_pred)\n",
    "\n",
    "# Print the evaluation metrics\n",
    "print(\"XGBoost:\")\n",
    "print(\"R2 Score:\", r2)\n",
    "print(\"Mean Squared Error:\", mse)\n",
    "print(\"Mean Absolute Error:\", mae)"
   ]
  },
  {
   "cell_type": "code",
   "execution_count": 32,
   "id": "ae0d763a",
   "metadata": {},
   "outputs": [],
   "source": [
    "import pickle"
   ]
  },
  {
   "cell_type": "code",
   "execution_count": 34,
   "id": "cb3d6dca",
   "metadata": {},
   "outputs": [],
   "source": [
    "pickle.dump(forest_reg,open('Random.pkl','wb'))"
   ]
  }
 ],
 "metadata": {
  "kernelspec": {
   "display_name": "Python 3 (ipykernel)",
   "language": "python",
   "name": "python3"
  },
  "language_info": {
   "codemirror_mode": {
    "name": "ipython",
    "version": 3
   },
   "file_extension": ".py",
   "mimetype": "text/x-python",
   "name": "python",
   "nbconvert_exporter": "python",
   "pygments_lexer": "ipython3",
   "version": "3.9.13"
  }
 },
 "nbformat": 4,
 "nbformat_minor": 5
}
